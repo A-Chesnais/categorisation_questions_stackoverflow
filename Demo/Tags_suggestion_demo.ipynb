{
 "cells": [
  {
   "cell_type": "markdown",
   "metadata": {
    "toc": true
   },
   "source": [
    "<h1>Table of Contents<span class=\"tocSkip\"></span></h1>\n",
    "<div class=\"toc\"><ul class=\"toc-item\"><li><span><a href=\"#Collecte-des-données-depuis-l'API\" data-toc-modified-id=\"Collecte-des-données-depuis-l'API-1\"><span class=\"toc-item-num\">1&nbsp;&nbsp;</span>Collecte des données depuis l'API</a></span></li><li><span><a href=\"#Nettoyage-des-données\" data-toc-modified-id=\"Nettoyage-des-données-2\"><span class=\"toc-item-num\">2&nbsp;&nbsp;</span>Nettoyage des données</a></span></li><li><span><a href=\"#Chargement-des-questions\" data-toc-modified-id=\"Chargement-des-questions-3\"><span class=\"toc-item-num\">3&nbsp;&nbsp;</span>Chargement des questions</a></span></li><li><span><a href=\"#Suggestions-de-tags\" data-toc-modified-id=\"Suggestions-de-tags-4\"><span class=\"toc-item-num\">4&nbsp;&nbsp;</span>Suggestions de tags</a></span></li></ul></div>"
   ]
  },
  {
   "cell_type": "code",
   "execution_count": 1,
   "metadata": {},
   "outputs": [],
   "source": [
    "import functions_demo\n",
    "import pandas as pd"
   ]
  },
  {
   "cell_type": "markdown",
   "metadata": {},
   "source": [
    "# Collecte des données depuis l'API"
   ]
  },
  {
   "cell_type": "markdown",
   "metadata": {},
   "source": [
    "Pour collecter les données d'une journée depuis l'API, il faut modifier la chaine de caractère 'date' ci dessous, avec le format JJ_MM_YYYY (Jour, mois, année). La fonction 'data_retrieve' récupérera ensuite les données, le retournera dans la variable data. Les données sont un dataframe avec une colonne contenant le titre de la question, une autre le corps de la question et la dernière les tags associés."
   ]
  },
  {
   "cell_type": "code",
   "execution_count": 2,
   "metadata": {},
   "outputs": [],
   "source": [
    "date = '25_01_2017'"
   ]
  },
  {
   "cell_type": "code",
   "execution_count": 3,
   "metadata": {},
   "outputs": [
    {
     "name": "stdout",
     "output_type": "stream",
     "text": [
      "page : 2\n"
     ]
    },
    {
     "name": "stderr",
     "output_type": "stream",
     "text": [
      "E:\\Antoine\\Logiciels\\Anaconda3\\lib\\site-packages\\pandas\\core\\frame.py:7138: FutureWarning: Sorting because non-concatenation axis is not aligned. A future version\n",
      "of pandas will change to not sort by default.\n",
      "\n",
      "To accept the future behavior, pass 'sort=False'.\n",
      "\n",
      "To retain the current behavior and silence the warning, pass 'sort=True'.\n",
      "\n",
      "  sort=sort,\n"
     ]
    },
    {
     "name": "stdout",
     "output_type": "stream",
     "text": [
      "page : 3\n",
      "page : 4\n",
      "page : 5\n",
      "page : 6\n",
      "page : 7\n",
      "page : 8\n",
      "page : 9\n",
      "page : 10\n",
      "page : 11\n",
      "page : 12\n",
      "page : 13\n",
      "page : 14\n",
      "page : 15\n",
      "page : 16\n",
      "page : 17\n",
      "page : 18\n",
      "page : 19\n",
      "page : 20\n",
      "page : 21\n",
      "page : 22\n",
      "page : 23\n",
      "page : 24\n",
      "page : 25\n",
      "page : 26\n",
      "page : 27\n",
      "page : 28\n",
      "page : 29\n",
      "page : 30\n",
      "page : 31\n",
      "page : 32\n",
      "page : 33\n",
      "page : 34\n",
      "page : 35\n",
      "page : 36\n",
      "page : 37\n"
     ]
    }
   ],
   "source": [
    "data_stackoverflow = functions_demo.data_retrieve(date)"
   ]
  },
  {
   "cell_type": "code",
   "execution_count": 4,
   "metadata": {},
   "outputs": [
    {
     "data": {
      "text/html": [
       "<div>\n",
       "<style scoped>\n",
       "    .dataframe tbody tr th:only-of-type {\n",
       "        vertical-align: middle;\n",
       "    }\n",
       "\n",
       "    .dataframe tbody tr th {\n",
       "        vertical-align: top;\n",
       "    }\n",
       "\n",
       "    .dataframe thead th {\n",
       "        text-align: right;\n",
       "    }\n",
       "</style>\n",
       "<table border=\"1\" class=\"dataframe\">\n",
       "  <thead>\n",
       "    <tr style=\"text-align: right;\">\n",
       "      <th></th>\n",
       "      <th>title</th>\n",
       "      <th>body</th>\n",
       "      <th>tags</th>\n",
       "    </tr>\n",
       "  </thead>\n",
       "  <tbody>\n",
       "    <tr>\n",
       "      <th>0</th>\n",
       "      <td>practical way to set and sequentially incremen...</td>\n",
       "      <td>&lt;pre class=\"lang-golang prettyprint-override\"&gt;...</td>\n",
       "      <td>[dictionary, go]</td>\n",
       "    </tr>\n",
       "    <tr>\n",
       "      <th>1</th>\n",
       "      <td>How to design chatbox GUI using javafx</td>\n",
       "      <td>&lt;p&gt;I would like to create a GUI Interface for ...</td>\n",
       "      <td>[user-interface, javafx]</td>\n",
       "    </tr>\n",
       "    <tr>\n",
       "      <th>2</th>\n",
       "      <td>Insert Data with pymysql using inputs</td>\n",
       "      <td>&lt;p&gt;I'm working on a DB and I'm having trouble ...</td>\n",
       "      <td>[python, mysql, python-3.x, pymysql]</td>\n",
       "    </tr>\n",
       "    <tr>\n",
       "      <th>3</th>\n",
       "      <td>Which API allows access to Google&amp;#39;s Dictio...</td>\n",
       "      <td>&lt;p&gt;I know that Google Dictionary was &lt;a href=\"...</td>\n",
       "      <td>[dictionary, google-api]</td>\n",
       "    </tr>\n",
       "    <tr>\n",
       "      <th>4</th>\n",
       "      <td>how to update spyder on anaconda</td>\n",
       "      <td>&lt;p&gt;I have Anaconda installed (Python 2.7.11 |A...</td>\n",
       "      <td>[python, python-2.7, anaconda, spyder]</td>\n",
       "    </tr>\n",
       "    <tr>\n",
       "      <th>...</th>\n",
       "      <td>...</td>\n",
       "      <td>...</td>\n",
       "      <td>...</td>\n",
       "    </tr>\n",
       "    <tr>\n",
       "      <th>3529</th>\n",
       "      <td>Make one node subelement of another</td>\n",
       "      <td>&lt;p&gt;I am trying to add the &lt;code&gt;&amp;lt;Item&amp;gt;&lt;/...</td>\n",
       "      <td>[python, lxml, elementtree]</td>\n",
       "    </tr>\n",
       "    <tr>\n",
       "      <th>3530</th>\n",
       "      <td>How can I display a DuckDuckGo search box with...</td>\n",
       "      <td>&lt;p&gt;I would like to display a DuckDuckGo search...</td>\n",
       "      <td>[html, css]</td>\n",
       "    </tr>\n",
       "    <tr>\n",
       "      <th>3531</th>\n",
       "      <td>In the context of iOS development, what does v...</td>\n",
       "      <td>&lt;p&gt;In WWDC's &lt;a href=\"https://youtu.be/9_yNjb2...</td>\n",
       "      <td>[ios, uikit]</td>\n",
       "    </tr>\n",
       "    <tr>\n",
       "      <th>3532</th>\n",
       "      <td>What is the the run time cost of the following...</td>\n",
       "      <td>&lt;pre&gt;&lt;code&gt;for i=2 to n\\n    j=3n\\n    while j...</td>\n",
       "      <td>[algorithm, time-complexity]</td>\n",
       "    </tr>\n",
       "    <tr>\n",
       "      <th>3533</th>\n",
       "      <td>Template function requires existence of inner ...</td>\n",
       "      <td>&lt;p&gt;There's a template function &lt;em&gt;f&lt;/em&gt; that...</td>\n",
       "      <td>[c++, templates, nested, definition]</td>\n",
       "    </tr>\n",
       "  </tbody>\n",
       "</table>\n",
       "<p>3534 rows × 3 columns</p>\n",
       "</div>"
      ],
      "text/plain": [
       "                                                  title  \\\n",
       "0     practical way to set and sequentially incremen...   \n",
       "1                How to design chatbox GUI using javafx   \n",
       "2                 Insert Data with pymysql using inputs   \n",
       "3     Which API allows access to Google&#39;s Dictio...   \n",
       "4                      how to update spyder on anaconda   \n",
       "...                                                 ...   \n",
       "3529                Make one node subelement of another   \n",
       "3530  How can I display a DuckDuckGo search box with...   \n",
       "3531  In the context of iOS development, what does v...   \n",
       "3532  What is the the run time cost of the following...   \n",
       "3533  Template function requires existence of inner ...   \n",
       "\n",
       "                                                   body  \\\n",
       "0     <pre class=\"lang-golang prettyprint-override\">...   \n",
       "1     <p>I would like to create a GUI Interface for ...   \n",
       "2     <p>I'm working on a DB and I'm having trouble ...   \n",
       "3     <p>I know that Google Dictionary was <a href=\"...   \n",
       "4     <p>I have Anaconda installed (Python 2.7.11 |A...   \n",
       "...                                                 ...   \n",
       "3529  <p>I am trying to add the <code>&lt;Item&gt;</...   \n",
       "3530  <p>I would like to display a DuckDuckGo search...   \n",
       "3531  <p>In WWDC's <a href=\"https://youtu.be/9_yNjb2...   \n",
       "3532  <pre><code>for i=2 to n\\n    j=3n\\n    while j...   \n",
       "3533  <p>There's a template function <em>f</em> that...   \n",
       "\n",
       "                                        tags  \n",
       "0                           [dictionary, go]  \n",
       "1                   [user-interface, javafx]  \n",
       "2       [python, mysql, python-3.x, pymysql]  \n",
       "3                   [dictionary, google-api]  \n",
       "4     [python, python-2.7, anaconda, spyder]  \n",
       "...                                      ...  \n",
       "3529             [python, lxml, elementtree]  \n",
       "3530                             [html, css]  \n",
       "3531                            [ios, uikit]  \n",
       "3532            [algorithm, time-complexity]  \n",
       "3533    [c++, templates, nested, definition]  \n",
       "\n",
       "[3534 rows x 3 columns]"
      ]
     },
     "metadata": {},
     "output_type": "display_data"
    }
   ],
   "source": [
    "display(data_stackoverflow)"
   ]
  },
  {
   "cell_type": "code",
   "execution_count": 5,
   "metadata": {},
   "outputs": [
    {
     "data": {
      "text/plain": [
       "'Insert Data with pymysql using inputs'"
      ]
     },
     "metadata": {},
     "output_type": "display_data"
    }
   ],
   "source": [
    "display(data_stackoverflow.title[2])"
   ]
  },
  {
   "cell_type": "markdown",
   "metadata": {},
   "source": [
    "# Nettoyage des données"
   ]
  },
  {
   "cell_type": "markdown",
   "metadata": {},
   "source": [
    "La fonction 'questions_cleaning' prend en entrée les données collectées précédemment et y applique plusieurs étapes de nettoyage. Elle sauvegarde le dataset nettoyé dans un fichier csv portant comme nom la date référence pour la collecte des données. Les données originales sont toujours disponibles dans les colonnes 'title', 'body' et 'tags'."
   ]
  },
  {
   "cell_type": "code",
   "execution_count": 6,
   "metadata": {},
   "outputs": [],
   "source": [
    "functions_demo.questions_cleaning(data_stackoverflow)"
   ]
  },
  {
   "cell_type": "code",
   "execution_count": 7,
   "metadata": {},
   "outputs": [
    {
     "data": {
      "text/html": [
       "<div>\n",
       "<style scoped>\n",
       "    .dataframe tbody tr th:only-of-type {\n",
       "        vertical-align: middle;\n",
       "    }\n",
       "\n",
       "    .dataframe tbody tr th {\n",
       "        vertical-align: top;\n",
       "    }\n",
       "\n",
       "    .dataframe thead th {\n",
       "        text-align: right;\n",
       "    }\n",
       "</style>\n",
       "<table border=\"1\" class=\"dataframe\">\n",
       "  <thead>\n",
       "    <tr style=\"text-align: right;\">\n",
       "      <th></th>\n",
       "      <th>title</th>\n",
       "      <th>body</th>\n",
       "      <th>tags</th>\n",
       "      <th>body_text</th>\n",
       "      <th>files_extensions</th>\n",
       "      <th>C++</th>\n",
       "      <th>C#</th>\n",
       "      <th>spacy_lemmetized_text</th>\n",
       "      <th>cleaned_questions</th>\n",
       "    </tr>\n",
       "  </thead>\n",
       "  <tbody>\n",
       "    <tr>\n",
       "      <th>0</th>\n",
       "      <td>practical way to set and sequentially incremen...</td>\n",
       "      <td>&lt;pre class=\"lang-golang prettyprint-override\"&gt;...</td>\n",
       "      <td>[dictionary, go]</td>\n",
       "      <td>\\nCode above ignores the  operator, so  always...</td>\n",
       "      <td></td>\n",
       "      <td></td>\n",
       "      <td></td>\n",
       "      <td>way value inside map code operator ' m somethi...</td>\n",
       "      <td>map operator ' m reference</td>\n",
       "    </tr>\n",
       "    <tr>\n",
       "      <th>1</th>\n",
       "      <td>How to design chatbox GUI using javafx</td>\n",
       "      <td>&lt;p&gt;I would like to create a GUI Interface for ...</td>\n",
       "      <td>[user-interface, javafx]</td>\n",
       "      <td>I would like to create a GUI Interface for a C...</td>\n",
       "      <td></td>\n",
       "      <td></td>\n",
       "      <td></td>\n",
       "      <td>design chatbox gui javafx would gui interface ...</td>\n",
       "      <td>design chatbox gui javafx gui interface chat a...</td>\n",
       "    </tr>\n",
       "    <tr>\n",
       "      <th>2</th>\n",
       "      <td>Insert Data with pymysql using inputs</td>\n",
       "      <td>&lt;p&gt;I'm working on a DB and I'm having trouble ...</td>\n",
       "      <td>[python, mysql, python-3.x, pymysql]</td>\n",
       "      <td>I'm working on a DB and I'm having trouble whe...</td>\n",
       "      <td></td>\n",
       "      <td></td>\n",
       "      <td></td>\n",
       "      <td>insert data pymysql input ' m db ' m trouble p...</td>\n",
       "      <td>insert data pymysql ' m db ' m pymysql insert ...</td>\n",
       "    </tr>\n",
       "    <tr>\n",
       "      <th>3</th>\n",
       "      <td>Which API allows access to Google&amp;#39;s Dictio...</td>\n",
       "      <td>&lt;p&gt;I know that Google Dictionary was &lt;a href=\"...</td>\n",
       "      <td>[dictionary, google-api]</td>\n",
       "      <td>I know that Google Dictionary was , but the di...</td>\n",
       "      <td></td>\n",
       "      <td></td>\n",
       "      <td></td>\n",
       "      <td>api access google dictionary information googl...</td>\n",
       "      <td>api access google dictionary google dictionary...</td>\n",
       "    </tr>\n",
       "    <tr>\n",
       "      <th>4</th>\n",
       "      <td>how to update spyder on anaconda</td>\n",
       "      <td>&lt;p&gt;I have Anaconda installed (Python 2.7.11 |A...</td>\n",
       "      <td>[python, python-2.7, anaconda, spyder]</td>\n",
       "      <td>I have Anaconda installed (Python 2.7.11 |Anac...</td>\n",
       "      <td></td>\n",
       "      <td></td>\n",
       "      <td></td>\n",
       "      <td>update spyder anaconda anaconda python anacond...</td>\n",
       "      <td>update spyder anaconda anaconda python anacond...</td>\n",
       "    </tr>\n",
       "    <tr>\n",
       "      <th>...</th>\n",
       "      <td>...</td>\n",
       "      <td>...</td>\n",
       "      <td>...</td>\n",
       "      <td>...</td>\n",
       "      <td>...</td>\n",
       "      <td>...</td>\n",
       "      <td>...</td>\n",
       "      <td>...</td>\n",
       "      <td>...</td>\n",
       "    </tr>\n",
       "    <tr>\n",
       "      <th>3529</th>\n",
       "      <td>Make one node subelement of another</td>\n",
       "      <td>&lt;p&gt;I am trying to add the &lt;code&gt;&amp;lt;Item&amp;gt;&lt;/...</td>\n",
       "      <td>[python, lxml, elementtree]</td>\n",
       "      <td>I am trying to add the  block within the  pare...</td>\n",
       "      <td></td>\n",
       "      <td></td>\n",
       "      <td></td>\n",
       "      <td>one node another block within parent block get...</td>\n",
       "      <td>node block parent block underneath '</td>\n",
       "    </tr>\n",
       "    <tr>\n",
       "      <th>3530</th>\n",
       "      <td>How can I display a DuckDuckGo search box with...</td>\n",
       "      <td>&lt;p&gt;I would like to display a DuckDuckGo search...</td>\n",
       "      <td>[html, css]</td>\n",
       "      <td>I would like to display a DuckDuckGo search bo...</td>\n",
       "      <td></td>\n",
       "      <td></td>\n",
       "      <td></td>\n",
       "      <td>display duckduckgo search box image line text ...</td>\n",
       "      <td>duckduckgo box image text duckduckgo box text ...</td>\n",
       "    </tr>\n",
       "    <tr>\n",
       "      <th>3531</th>\n",
       "      <td>In the context of iOS development, what does v...</td>\n",
       "      <td>&lt;p&gt;In WWDC's &lt;a href=\"https://youtu.be/9_yNjb2...</td>\n",
       "      <td>[ios, uikit]</td>\n",
       "      <td>In WWDC's , around 04:00 the speaker says this...</td>\n",
       "      <td>.or</td>\n",
       "      <td></td>\n",
       "      <td></td>\n",
       "      <td>context ios development vend mean wwdc 's spea...</td>\n",
       "      <td>context ios development vend mean wwdc 's spea...</td>\n",
       "    </tr>\n",
       "    <tr>\n",
       "      <th>3532</th>\n",
       "      <td>What is the the run time cost of the following...</td>\n",
       "      <td>&lt;pre&gt;&lt;code&gt;for i=2 to n\\n    j=3n\\n    while j...</td>\n",
       "      <td>[algorithm, time-complexity]</td>\n",
       "      <td>\\nWhat would be the run time cost of the given...</td>\n",
       "      <td></td>\n",
       "      <td></td>\n",
       "      <td></td>\n",
       "      <td>time cost following algorithm would time cost ...</td>\n",
       "      <td>time cost following algorithm time cost algori...</td>\n",
       "    </tr>\n",
       "    <tr>\n",
       "      <th>3533</th>\n",
       "      <td>Template function requires existence of inner ...</td>\n",
       "      <td>&lt;p&gt;There's a template function &lt;em&gt;f&lt;/em&gt; that...</td>\n",
       "      <td>[c++, templates, nested, definition]</td>\n",
       "      <td>There's a template function f that requires it...</td>\n",
       "      <td></td>\n",
       "      <td></td>\n",
       "      <td></td>\n",
       "      <td>template function existence class class 's tem...</td>\n",
       "      <td>template existence class class 's template f t...</td>\n",
       "    </tr>\n",
       "  </tbody>\n",
       "</table>\n",
       "<p>3534 rows × 9 columns</p>\n",
       "</div>"
      ],
      "text/plain": [
       "                                                  title  \\\n",
       "0     practical way to set and sequentially incremen...   \n",
       "1                How to design chatbox GUI using javafx   \n",
       "2                 Insert Data with pymysql using inputs   \n",
       "3     Which API allows access to Google&#39;s Dictio...   \n",
       "4                      how to update spyder on anaconda   \n",
       "...                                                 ...   \n",
       "3529                Make one node subelement of another   \n",
       "3530  How can I display a DuckDuckGo search box with...   \n",
       "3531  In the context of iOS development, what does v...   \n",
       "3532  What is the the run time cost of the following...   \n",
       "3533  Template function requires existence of inner ...   \n",
       "\n",
       "                                                   body  \\\n",
       "0     <pre class=\"lang-golang prettyprint-override\">...   \n",
       "1     <p>I would like to create a GUI Interface for ...   \n",
       "2     <p>I'm working on a DB and I'm having trouble ...   \n",
       "3     <p>I know that Google Dictionary was <a href=\"...   \n",
       "4     <p>I have Anaconda installed (Python 2.7.11 |A...   \n",
       "...                                                 ...   \n",
       "3529  <p>I am trying to add the <code>&lt;Item&gt;</...   \n",
       "3530  <p>I would like to display a DuckDuckGo search...   \n",
       "3531  <p>In WWDC's <a href=\"https://youtu.be/9_yNjb2...   \n",
       "3532  <pre><code>for i=2 to n\\n    j=3n\\n    while j...   \n",
       "3533  <p>There's a template function <em>f</em> that...   \n",
       "\n",
       "                                        tags  \\\n",
       "0                           [dictionary, go]   \n",
       "1                   [user-interface, javafx]   \n",
       "2       [python, mysql, python-3.x, pymysql]   \n",
       "3                   [dictionary, google-api]   \n",
       "4     [python, python-2.7, anaconda, spyder]   \n",
       "...                                      ...   \n",
       "3529             [python, lxml, elementtree]   \n",
       "3530                             [html, css]   \n",
       "3531                            [ios, uikit]   \n",
       "3532            [algorithm, time-complexity]   \n",
       "3533    [c++, templates, nested, definition]   \n",
       "\n",
       "                                              body_text files_extensions C++  \\\n",
       "0     \\nCode above ignores the  operator, so  always...                        \n",
       "1     I would like to create a GUI Interface for a C...                        \n",
       "2     I'm working on a DB and I'm having trouble whe...                        \n",
       "3     I know that Google Dictionary was , but the di...                        \n",
       "4     I have Anaconda installed (Python 2.7.11 |Anac...                        \n",
       "...                                                 ...              ...  ..   \n",
       "3529  I am trying to add the  block within the  pare...                        \n",
       "3530  I would like to display a DuckDuckGo search bo...                        \n",
       "3531  In WWDC's , around 04:00 the speaker says this...              .or       \n",
       "3532  \\nWhat would be the run time cost of the given...                        \n",
       "3533  There's a template function f that requires it...                        \n",
       "\n",
       "     C#                              spacy_lemmetized_text  \\\n",
       "0        way value inside map code operator ' m somethi...   \n",
       "1        design chatbox gui javafx would gui interface ...   \n",
       "2        insert data pymysql input ' m db ' m trouble p...   \n",
       "3        api access google dictionary information googl...   \n",
       "4        update spyder anaconda anaconda python anacond...   \n",
       "...  ..                                                ...   \n",
       "3529     one node another block within parent block get...   \n",
       "3530     display duckduckgo search box image line text ...   \n",
       "3531     context ios development vend mean wwdc 's spea...   \n",
       "3532     time cost following algorithm would time cost ...   \n",
       "3533     template function existence class class 's tem...   \n",
       "\n",
       "                                      cleaned_questions  \n",
       "0                            map operator ' m reference  \n",
       "1     design chatbox gui javafx gui interface chat a...  \n",
       "2     insert data pymysql ' m db ' m pymysql insert ...  \n",
       "3     api access google dictionary google dictionary...  \n",
       "4     update spyder anaconda anaconda python anacond...  \n",
       "...                                                 ...  \n",
       "3529               node block parent block underneath '  \n",
       "3530  duckduckgo box image text duckduckgo box text ...  \n",
       "3531  context ios development vend mean wwdc 's spea...  \n",
       "3532  time cost following algorithm time cost algori...  \n",
       "3533  template existence class class 's template f t...  \n",
       "\n",
       "[3534 rows x 9 columns]"
      ]
     },
     "metadata": {},
     "output_type": "display_data"
    }
   ],
   "source": [
    "display(data_stackoverflow)"
   ]
  },
  {
   "cell_type": "markdown",
   "metadata": {},
   "source": [
    "# Chargement des questions"
   ]
  },
  {
   "cell_type": "markdown",
   "metadata": {},
   "source": [
    "Il est ensuite nécessaire de charger les questions. Il s'agit de prendre le dataset précédent et de combiner certaines variables (cleaned_questions, files_extensions, C++, C#) pour obtenir le texte à fournir à l'algorithme de prédiction."
   ]
  },
  {
   "cell_type": "code",
   "execution_count": 8,
   "metadata": {},
   "outputs": [],
   "source": [
    "questions = functions_demo.load_questions(data_stackoverflow)"
   ]
  },
  {
   "cell_type": "code",
   "execution_count": 9,
   "metadata": {},
   "outputs": [
    {
     "data": {
      "text/plain": [
       "0                             map operator ' m reference \n",
       "1       design chatbox gui javafx gui interface chat a...\n",
       "2       insert data pymysql ' m db ' m pymysql insert ...\n",
       "3       api access google dictionary google dictionary...\n",
       "4       update spyder anaconda anaconda python anacond...\n",
       "                              ...                        \n",
       "3529                node block parent block underneath ' \n",
       "3530    duckduckgo box image text duckduckgo box text ...\n",
       "3531    context ios development vend mean wwdc 's spea...\n",
       "3532    time cost following algorithm time cost algori...\n",
       "3533    template existence class class 's template f t...\n",
       "Length: 3534, dtype: object"
      ]
     },
     "metadata": {},
     "output_type": "display_data"
    }
   ],
   "source": [
    "display(questions)"
   ]
  },
  {
   "cell_type": "code",
   "execution_count": 10,
   "metadata": {},
   "outputs": [
    {
     "name": "stdout",
     "output_type": "stream",
     "text": [
      "api access google dictionary google dictionary dictionary google api translate api \n"
     ]
    }
   ],
   "source": [
    "print(questions[3])"
   ]
  },
  {
   "cell_type": "markdown",
   "metadata": {},
   "source": [
    "# Suggestions de tags"
   ]
  },
  {
   "cell_type": "markdown",
   "metadata": {},
   "source": [
    "Pour la prédiction de tags sur une question, il suffit d'utiliser la fonction ci dessous 'tags_suggestions'. Il est nécessaire de lui passer en premier la liste de questions chargées 'questions', le dataset nettoyé (data) et le numéro de ligne de la question souhaitée. Ci dessous un exemple :"
   ]
  },
  {
   "cell_type": "code",
   "execution_count": 11,
   "metadata": {
    "scrolled": false
   },
   "outputs": [
    {
     "name": "stdout",
     "output_type": "stream",
     "text": [
      "Titre de la question :\n",
      "how to update spyder on anaconda\n",
      "\n",
      " Tags utilisés :\n",
      "['python', 'python-2.7', 'anaconda', 'spyder']\n",
      "\n",
      " Tags suggérés :\n",
      "LDA : ['string', 'python', 'command', 'update', 'character', 'csv']\n",
      "NMF : ['window', 'python', 'command', 'update', 'shell']\n",
      "Supervised : ['python']\n",
      "\n",
      " Corps de la question :\n",
      "<p>I have Anaconda installed (Python 2.7.11 |Anaconda custom (64-bit)| (default, Feb 16 2016, 09:58:36) [MSC v.1500 64 bit (AMD64)] on win32)  and I am using Spyder 2.3.8 </p>\n",
      "\n",
      "<p>Would like to update Spyder to the latest version, so I went through the commands:</p>\n",
      "\n",
      "<pre><code>conda update conda\n",
      "conda update anaconda\n",
      "conda update spyder\n",
      "</code></pre>\n",
      "\n",
      "<p>They all ran without errors, but the spyder version didn't change - this is command I'm using to launch:</p>\n",
      "\n",
      "<blockquote>\n",
      "  <p>C:\\Anaconda2\\pythonw.exe C:\\Anaconda2\\cwp.py C:\\Anaconda2 \"C:/Anaconda2/pythonw.exe\" \"C:/Anaconda2/Scripts/spyder-script.py\" --new-instance</p>\n",
      "</blockquote>\n",
      "\n",
      "<p>Am I missing something?</p>\n",
      "\n"
     ]
    }
   ],
   "source": [
    "functions_demo.tags_suggestions(questions, data_stackoverflow, 4)"
   ]
  },
  {
   "cell_type": "code",
   "execution_count": 12,
   "metadata": {},
   "outputs": [
    {
     "name": "stdout",
     "output_type": "stream",
     "text": [
      "Titre de la question :\n",
      "Insert Data with pymysql using inputs\n",
      "\n",
      " Tags utilisés :\n",
      "['python', 'mysql', 'python-3.x', 'pymysql']\n",
      "\n",
      " Tags suggérés :\n",
      "LDA : ['time', 'string', 'array', 'query', 'database', 'sql', 'character', 'attribute']\n",
      "NMF : ['database', 'table', 'string', 'query', 'update', 'sql', 'statement', 'php']\n",
      "Supervised : ['mysql']\n",
      "\n",
      " Corps de la question :\n",
      "<p>I'm working on a DB and I'm having trouble when using pymysql to INSERT some values</p>\n",
      "\n",
      "<pre><code>cur.execute(\"\"\"INSERT INTO orders (name, size, type, is_done) VALUES (%s, %s, %s, %s)\"\"\" \n",
      "% (name, size, type, is_done))\n",
      "</code></pre>\n",
      "\n",
      "<p>Where <em>name, size</em> and <em>type</em> are strings and <em>is_done</em> is a bool</p>\n",
      "\n",
      "<p>It gives me the typical error <code>You have an error in your SQL syntax; check the manual that corresponds to your MySQL server version for the right syntax to use near</code>, so I suppose the problem is a <code>'</code>, but how can I solve it?</p>\n",
      "\n",
      "<p><strong>Edit</strong></p>\n",
      "\n",
      "<p>I should also add that the name value is retrieved from a MySQL DB</p>\n",
      "\n"
     ]
    }
   ],
   "source": [
    "functions_demo.tags_suggestions(questions, data_stackoverflow, 2)"
   ]
  },
  {
   "cell_type": "code",
   "execution_count": 15,
   "metadata": {},
   "outputs": [
    {
     "name": "stdout",
     "output_type": "stream",
     "text": [
      "Titre de la question :\n",
      "How to use AOP with Feign calls\n",
      "\n",
      " Tags utilisés :\n",
      "['java', 'aop', 'aspectj', 'spring-aop', 'feign']\n",
      "\n",
      " Tags suggérés :\n",
      "LDA : ['class', 'method', 'application', 'api', 'update']\n",
      "NMF : ['application', 'exception', 'method', 'class', 'api', 'server', 'update', 'boot']\n",
      "Supervised : ['java', 'spring']\n",
      "\n",
      " Corps de la question :\n",
      "<p>I am interested in how to use Feign client in AOP.  For example:</p>\n",
      "\n",
      "<p><strong>API:</strong></p>\n",
      "\n",
      "<pre><code>public interface LoanClient {\n",
      "    @RequestLine(\"GET /loans/{loanId}\")\n",
      "    @MeteredRemoteCall(\"loans\")\n",
      "    Loan getLoan(@Param(\"loanId\") Long loanId);\n",
      "}\n",
      "</code></pre>\n",
      "\n",
      "<p><strong>Config:</strong></p>\n",
      "\n",
      "<pre><code>@Aspect\n",
      "@Component // Spring Component annotation\n",
      "public class MetricAspect {\n",
      "\n",
      "    @Around(value = \"@annotation(annotation)\", argNames = \"joinPoint, annotation\")\n",
      "    public Object meterRemoteCall(ProceedingJoinPoint joinPoint, \n",
      "                        MeteredRemoteCall annotation) throws Throwable {\n",
      "    // do something\n",
      "  }\n",
      "}\n",
      "</code></pre>\n",
      "\n",
      "<p>But I do not know how to \"intercept\" the api method call. Where did I go wrong?</p>\n",
      "\n",
      "<p><strong>UPDATE:</strong></p>\n",
      "\n",
      "<p>My Spring class annotation:</p>\n",
      "\n",
      "<pre><code>@Target({ElementType.METHOD})\n",
      "@Retention(RetentionPolicy.RUNTIME)\n",
      "public @interface MeteredRemoteCall {\n",
      "\n",
      "    String serviceName();\n",
      "}\n",
      "</code></pre>\n",
      "\n"
     ]
    }
   ],
   "source": [
    "functions_demo.tags_suggestions(questions, data_stackoverflow, 70)"
   ]
  },
  {
   "cell_type": "code",
   "execution_count": null,
   "metadata": {},
   "outputs": [],
   "source": []
  }
 ],
 "metadata": {
  "hide_input": false,
  "kernelspec": {
   "display_name": "Python 3",
   "language": "python",
   "name": "python3"
  },
  "language_info": {
   "codemirror_mode": {
    "name": "ipython",
    "version": 3
   },
   "file_extension": ".py",
   "mimetype": "text/x-python",
   "name": "python",
   "nbconvert_exporter": "python",
   "pygments_lexer": "ipython3",
   "version": "3.7.5"
  },
  "toc": {
   "base_numbering": 1,
   "nav_menu": {},
   "number_sections": true,
   "sideBar": true,
   "skip_h1_title": false,
   "title_cell": "Table of Contents",
   "title_sidebar": "Contents",
   "toc_cell": true,
   "toc_position": {},
   "toc_section_display": true,
   "toc_window_display": false
  }
 },
 "nbformat": 4,
 "nbformat_minor": 2
}
